{
 "cells": [
  {
   "cell_type": "code",
   "execution_count": 4,
   "id": "8f169da7",
   "metadata": {},
   "outputs": [
    {
     "name": "stderr",
     "output_type": "stream",
     "text": [
      "WARNING: You are using pip version 21.3.1; however, version 22.2.2 is available.\n",
      "You should consider upgrading via the 'C:\\Users\\shara\\anaconda3\\python.exe -m pip install --upgrade pip' command.\n"
     ]
    },
    {
     "data": {
      "application/javascript": [
       "if (window.IPython && IPython.notebook.kernel) IPython.notebook.kernel.execute('jovian.utils.jupyter.get_notebook_name_saved = lambda: \"' + IPython.notebook.notebook_name + '\"')"
      ],
      "text/plain": [
       "<IPython.core.display.Javascript object>"
      ]
     },
     "metadata": {},
     "output_type": "display_data"
    }
   ],
   "source": [
    "!pip install jovian --upgrade --quiet\n",
    "from jovian.pythondsa import evaluate_test_cases"
   ]
  },
  {
   "cell_type": "code",
   "execution_count": 47,
   "id": "d74bc14c",
   "metadata": {},
   "outputs": [],
   "source": [
    "def location(cards, query, mid):\n",
    "    print('mid', mid, \"mid-1\", mid-1, 'query',query)\n",
    "    if cards[mid]==query:\n",
    "        if mid-1 >= 0 and cards[mid-1] == query:\n",
    "            return 'left'\n",
    "        else:\n",
    "            return 'found'\n",
    "    elif cards[mid] < query:\n",
    "        return 'left'\n",
    "    else:\n",
    "        return 'right'\n",
    "\n"
   ]
  },
  {
   "cell_type": "code",
   "execution_count": 48,
   "id": "d1235e69",
   "metadata": {},
   "outputs": [],
   "source": [
    "def card_locate2(cards, query):\n",
    "    low, high = 0, len(cards)-1\n",
    "    \n",
    "    while low <= high:\n",
    "        mid = (low+high) // 2\n",
    "        result = location(cards, query, mid)\n",
    "        if result == 'found':\n",
    "            return mid\n",
    "        elif result == 'left':\n",
    "            low = mid+1\n",
    "        else:\n",
    "            high = mid-1\n",
    "            \n",
    "    return -1"
   ]
  },
  {
   "cell_type": "code",
   "execution_count": 49,
   "id": "b8943ec6",
   "metadata": {},
   "outputs": [],
   "source": [
    "def card_locate(cards, query):\n",
    "    low, high = 0, len(cards)-1\n",
    "    while low <= high:\n",
    "        mid = (low+high) // 2\n",
    "        if cards[mid] == query:\n",
    "            return mid\n",
    "        elif cards[mid]< query:\n",
    "            low = mid+1\n",
    "        else:\n",
    "            high = mid-1\n",
    "            \n",
    "    return -1\n"
   ]
  },
  {
   "cell_type": "code",
   "execution_count": 50,
   "id": "a085342b",
   "metadata": {},
   "outputs": [],
   "source": [
    "test = {\n",
    "    'input': { \n",
    "        'cards': [13, 11, 10, 7, 4, 3, 1, 0], \n",
    "        'query': 7\n",
    "    },\n",
    "    \n",
    "    'output': 3\n",
    "}"
   ]
  },
  {
   "cell_type": "code",
   "execution_count": 51,
   "id": "bf533ed4",
   "metadata": {},
   "outputs": [
    {
     "name": "stdout",
     "output_type": "stream",
     "text": [
      "mid 3 mid-1 2 query 7\n"
     ]
    },
    {
     "data": {
      "text/plain": [
       "True"
      ]
     },
     "execution_count": 51,
     "metadata": {},
     "output_type": "execute_result"
    }
   ],
   "source": [
    "card_locate2(**test['input']) == test['output']"
   ]
  },
  {
   "cell_type": "code",
   "execution_count": null,
   "id": "ebe1ac69",
   "metadata": {},
   "outputs": [],
   "source": []
  },
  {
   "cell_type": "code",
   "execution_count": null,
   "id": "0d86f114",
   "metadata": {},
   "outputs": [],
   "source": []
  }
 ],
 "metadata": {
  "kernelspec": {
   "display_name": "Python 3 (ipykernel)",
   "language": "python",
   "name": "python3"
  },
  "language_info": {
   "codemirror_mode": {
    "name": "ipython",
    "version": 3
   },
   "file_extension": ".py",
   "mimetype": "text/x-python",
   "name": "python",
   "nbconvert_exporter": "python",
   "pygments_lexer": "ipython3",
   "version": "3.9.7"
  }
 },
 "nbformat": 4,
 "nbformat_minor": 5
}
