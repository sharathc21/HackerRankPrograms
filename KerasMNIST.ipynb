{
  "nbformat": 4,
  "nbformat_minor": 0,
  "metadata": {
    "colab": {
      "provenance": [],
      "authorship_tag": "ABX9TyOoVkoVbKZvXGxWrumRT7XV",
      "include_colab_link": true
    },
    "kernelspec": {
      "name": "python3",
      "display_name": "Python 3"
    },
    "language_info": {
      "name": "python"
    },
    "accelerator": "GPU",
    "gpuClass": "standard"
  },
  "cells": [
    {
      "cell_type": "markdown",
      "metadata": {
        "id": "view-in-github",
        "colab_type": "text"
      },
      "source": [
        "<a href=\"https://colab.research.google.com/github/sharathc21/HackerRankPrograms/blob/main/KerasMNIST.ipynb\" target=\"_parent\"><img src=\"https://colab.research.google.com/assets/colab-badge.svg\" alt=\"Open In Colab\"/></a>"
      ]
    },
    {
      "cell_type": "code",
      "execution_count": 1,
      "metadata": {
        "id": "kxReNs2J8hLN"
      },
      "outputs": [],
      "source": [
        "# # from tensorflow.examples.tutorials.mnist import inut_data\n",
        "# # mnist = input_data.read_data_sets(\"MNIST_data/\", one_hot= True)\n",
        "# import tensorflow as tf\n",
        "# (train_images, train_labels), (test_images, test_labels) = tf.keras.datasets.mnist.load_data()"
      ]
    },
    {
      "cell_type": "code",
      "source": [
        "from keras.utils import np_utils\n",
        "from keras.datasets import mnist\n",
        "import seaborn as sns\n",
        "from keras.initializers import RandomNormal"
      ],
      "metadata": {
        "id": "pJO2k-_J9FQE"
      },
      "execution_count": 2,
      "outputs": []
    },
    {
      "cell_type": "code",
      "source": [
        "%matplotlib inline\n",
        "import matplotlib.pyplot as plt\n",
        "import numpy as np\n",
        "import time\n"
      ],
      "metadata": {
        "id": "c9YhaWCiRmAi"
      },
      "execution_count": 3,
      "outputs": []
    },
    {
      "cell_type": "code",
      "source": [
        "def plt_dynamic(x, vy, ty, ax, colors=['b']):\n",
        "  ax.plot(x, vy, 'b', label=\"Validation Loss\")\n",
        "  ax.plot(x, ty, 'r', label = \"Train Loss\")\n",
        "  plt.legend()\n",
        "  plt.grid()\n",
        "  fig.canvas.draw()\n"
      ],
      "metadata": {
        "id": "yM_A7LmpSNvc"
      },
      "execution_count": 4,
      "outputs": []
    },
    {
      "cell_type": "code",
      "source": [
        "(x_train, y_train), (x_test, y_test)= mnist.load_data()"
      ],
      "metadata": {
        "colab": {
          "base_uri": "https://localhost:8080/"
        },
        "id": "NIabMyx4Umpp",
        "outputId": "5773f202-ff62-46dc-ed98-e4046fa6cde5"
      },
      "execution_count": 5,
      "outputs": [
        {
          "output_type": "stream",
          "name": "stdout",
          "text": [
            "Downloading data from https://storage.googleapis.com/tensorflow/tf-keras-datasets/mnist.npz\n",
            "11490434/11490434 [==============================] - 2s 0us/step\n"
          ]
        }
      ]
    },
    {
      "cell_type": "code",
      "source": [
        "print(\"Training sample no. : \", x_train.shape[0], y_train.shape)\n",
        "print(\"Testing sample no. : \", x_test.shape[0], y_test[0])"
      ],
      "metadata": {
        "colab": {
          "base_uri": "https://localhost:8080/"
        },
        "id": "ZmFjJunBX7Ra",
        "outputId": "d71a884f-d6b2-4e36-a7f9-8810f72d8002"
      },
      "execution_count": 6,
      "outputs": [
        {
          "output_type": "stream",
          "name": "stdout",
          "text": [
            "Training sample no. :  60000 (60000,)\n",
            "Testing sample no. :  10000 7\n"
          ]
        }
      ]
    },
    {
      "cell_type": "code",
      "source": [
        "x_train =x_train.reshape(x_train.shape[0], x_train.shape[1]*x_train.shape[2])\n",
        "x_test=x_test.reshape(x_test.shape[0], x_test.shape[1]*x_test.shape[2])"
      ],
      "metadata": {
        "id": "YATvRdVDYOVH"
      },
      "execution_count": 7,
      "outputs": []
    },
    {
      "cell_type": "code",
      "source": [
        "print(len(x_train[0]))\n",
        "print(x_train[0])"
      ],
      "metadata": {
        "colab": {
          "base_uri": "https://localhost:8080/"
        },
        "id": "nxXokP5mahnY",
        "outputId": "630c3de2-dbc5-4f4b-b7c5-e52035ef833b"
      },
      "execution_count": 8,
      "outputs": [
        {
          "output_type": "stream",
          "name": "stdout",
          "text": [
            "784\n",
            "[  0   0   0   0   0   0   0   0   0   0   0   0   0   0   0   0   0   0\n",
            "   0   0   0   0   0   0   0   0   0   0   0   0   0   0   0   0   0   0\n",
            "   0   0   0   0   0   0   0   0   0   0   0   0   0   0   0   0   0   0\n",
            "   0   0   0   0   0   0   0   0   0   0   0   0   0   0   0   0   0   0\n",
            "   0   0   0   0   0   0   0   0   0   0   0   0   0   0   0   0   0   0\n",
            "   0   0   0   0   0   0   0   0   0   0   0   0   0   0   0   0   0   0\n",
            "   0   0   0   0   0   0   0   0   0   0   0   0   0   0   0   0   0   0\n",
            "   0   0   0   0   0   0   0   0   0   0   0   0   0   0   0   0   0   0\n",
            "   0   0   0   0   0   0   0   0   3  18  18  18 126 136 175  26 166 255\n",
            " 247 127   0   0   0   0   0   0   0   0   0   0   0   0  30  36  94 154\n",
            " 170 253 253 253 253 253 225 172 253 242 195  64   0   0   0   0   0   0\n",
            "   0   0   0   0   0  49 238 253 253 253 253 253 253 253 253 251  93  82\n",
            "  82  56  39   0   0   0   0   0   0   0   0   0   0   0   0  18 219 253\n",
            " 253 253 253 253 198 182 247 241   0   0   0   0   0   0   0   0   0   0\n",
            "   0   0   0   0   0   0   0   0  80 156 107 253 253 205  11   0  43 154\n",
            "   0   0   0   0   0   0   0   0   0   0   0   0   0   0   0   0   0   0\n",
            "   0  14   1 154 253  90   0   0   0   0   0   0   0   0   0   0   0   0\n",
            "   0   0   0   0   0   0   0   0   0   0   0   0   0 139 253 190   2   0\n",
            "   0   0   0   0   0   0   0   0   0   0   0   0   0   0   0   0   0   0\n",
            "   0   0   0   0   0  11 190 253  70   0   0   0   0   0   0   0   0   0\n",
            "   0   0   0   0   0   0   0   0   0   0   0   0   0   0   0   0  35 241\n",
            " 225 160 108   1   0   0   0   0   0   0   0   0   0   0   0   0   0   0\n",
            "   0   0   0   0   0   0   0   0   0  81 240 253 253 119  25   0   0   0\n",
            "   0   0   0   0   0   0   0   0   0   0   0   0   0   0   0   0   0   0\n",
            "   0   0  45 186 253 253 150  27   0   0   0   0   0   0   0   0   0   0\n",
            "   0   0   0   0   0   0   0   0   0   0   0   0   0  16  93 252 253 187\n",
            "   0   0   0   0   0   0   0   0   0   0   0   0   0   0   0   0   0   0\n",
            "   0   0   0   0   0   0   0 249 253 249  64   0   0   0   0   0   0   0\n",
            "   0   0   0   0   0   0   0   0   0   0   0   0   0   0  46 130 183 253\n",
            " 253 207   2   0   0   0   0   0   0   0   0   0   0   0   0   0   0   0\n",
            "   0   0   0   0  39 148 229 253 253 253 250 182   0   0   0   0   0   0\n",
            "   0   0   0   0   0   0   0   0   0   0   0   0  24 114 221 253 253 253\n",
            " 253 201  78   0   0   0   0   0   0   0   0   0   0   0   0   0   0   0\n",
            "   0   0  23  66 213 253 253 253 253 198  81   2   0   0   0   0   0   0\n",
            "   0   0   0   0   0   0   0   0   0   0  18 171 219 253 253 253 253 195\n",
            "  80   9   0   0   0   0   0   0   0   0   0   0   0   0   0   0   0   0\n",
            "  55 172 226 253 253 253 253 244 133  11   0   0   0   0   0   0   0   0\n",
            "   0   0   0   0   0   0   0   0   0   0 136 253 253 253 212 135 132  16\n",
            "   0   0   0   0   0   0   0   0   0   0   0   0   0   0   0   0   0   0\n",
            "   0   0   0   0   0   0   0   0   0   0   0   0   0   0   0   0   0   0\n",
            "   0   0   0   0   0   0   0   0   0   0   0   0   0   0   0   0   0   0\n",
            "   0   0   0   0   0   0   0   0   0   0   0   0   0   0   0   0   0   0\n",
            "   0   0   0   0   0   0   0   0   0   0   0   0   0   0   0   0   0   0\n",
            "   0   0   0   0   0   0   0   0   0   0]\n"
          ]
        }
      ]
    },
    {
      "cell_type": "code",
      "source": [
        "x_train= x_train/ 255\n",
        "x_test = x_test / 255"
      ],
      "metadata": {
        "id": "73j8LtCCarrt"
      },
      "execution_count": 9,
      "outputs": []
    },
    {
      "cell_type": "code",
      "source": [
        "print(x_train[0])"
      ],
      "metadata": {
        "colab": {
          "base_uri": "https://localhost:8080/"
        },
        "id": "NtFfytMmbz2X",
        "outputId": "8d459bf1-52f0-43df-b36d-c3b67eecc2d2"
      },
      "execution_count": 10,
      "outputs": [
        {
          "output_type": "stream",
          "name": "stdout",
          "text": [
            "[0.         0.         0.         0.         0.         0.\n",
            " 0.         0.         0.         0.         0.         0.\n",
            " 0.         0.         0.         0.         0.         0.\n",
            " 0.         0.         0.         0.         0.         0.\n",
            " 0.         0.         0.         0.         0.         0.\n",
            " 0.         0.         0.         0.         0.         0.\n",
            " 0.         0.         0.         0.         0.         0.\n",
            " 0.         0.         0.         0.         0.         0.\n",
            " 0.         0.         0.         0.         0.         0.\n",
            " 0.         0.         0.         0.         0.         0.\n",
            " 0.         0.         0.         0.         0.         0.\n",
            " 0.         0.         0.         0.         0.         0.\n",
            " 0.         0.         0.         0.         0.         0.\n",
            " 0.         0.         0.         0.         0.         0.\n",
            " 0.         0.         0.         0.         0.         0.\n",
            " 0.         0.         0.         0.         0.         0.\n",
            " 0.         0.         0.         0.         0.         0.\n",
            " 0.         0.         0.         0.         0.         0.\n",
            " 0.         0.         0.         0.         0.         0.\n",
            " 0.         0.         0.         0.         0.         0.\n",
            " 0.         0.         0.         0.         0.         0.\n",
            " 0.         0.         0.         0.         0.         0.\n",
            " 0.         0.         0.         0.         0.         0.\n",
            " 0.         0.         0.         0.         0.         0.\n",
            " 0.         0.         0.         0.         0.         0.\n",
            " 0.         0.         0.01176471 0.07058824 0.07058824 0.07058824\n",
            " 0.49411765 0.53333333 0.68627451 0.10196078 0.65098039 1.\n",
            " 0.96862745 0.49803922 0.         0.         0.         0.\n",
            " 0.         0.         0.         0.         0.         0.\n",
            " 0.         0.         0.11764706 0.14117647 0.36862745 0.60392157\n",
            " 0.66666667 0.99215686 0.99215686 0.99215686 0.99215686 0.99215686\n",
            " 0.88235294 0.6745098  0.99215686 0.94901961 0.76470588 0.25098039\n",
            " 0.         0.         0.         0.         0.         0.\n",
            " 0.         0.         0.         0.         0.         0.19215686\n",
            " 0.93333333 0.99215686 0.99215686 0.99215686 0.99215686 0.99215686\n",
            " 0.99215686 0.99215686 0.99215686 0.98431373 0.36470588 0.32156863\n",
            " 0.32156863 0.21960784 0.15294118 0.         0.         0.\n",
            " 0.         0.         0.         0.         0.         0.\n",
            " 0.         0.         0.         0.07058824 0.85882353 0.99215686\n",
            " 0.99215686 0.99215686 0.99215686 0.99215686 0.77647059 0.71372549\n",
            " 0.96862745 0.94509804 0.         0.         0.         0.\n",
            " 0.         0.         0.         0.         0.         0.\n",
            " 0.         0.         0.         0.         0.         0.\n",
            " 0.         0.         0.31372549 0.61176471 0.41960784 0.99215686\n",
            " 0.99215686 0.80392157 0.04313725 0.         0.16862745 0.60392157\n",
            " 0.         0.         0.         0.         0.         0.\n",
            " 0.         0.         0.         0.         0.         0.\n",
            " 0.         0.         0.         0.         0.         0.\n",
            " 0.         0.05490196 0.00392157 0.60392157 0.99215686 0.35294118\n",
            " 0.         0.         0.         0.         0.         0.\n",
            " 0.         0.         0.         0.         0.         0.\n",
            " 0.         0.         0.         0.         0.         0.\n",
            " 0.         0.         0.         0.         0.         0.\n",
            " 0.         0.54509804 0.99215686 0.74509804 0.00784314 0.\n",
            " 0.         0.         0.         0.         0.         0.\n",
            " 0.         0.         0.         0.         0.         0.\n",
            " 0.         0.         0.         0.         0.         0.\n",
            " 0.         0.         0.         0.         0.         0.04313725\n",
            " 0.74509804 0.99215686 0.2745098  0.         0.         0.\n",
            " 0.         0.         0.         0.         0.         0.\n",
            " 0.         0.         0.         0.         0.         0.\n",
            " 0.         0.         0.         0.         0.         0.\n",
            " 0.         0.         0.         0.         0.1372549  0.94509804\n",
            " 0.88235294 0.62745098 0.42352941 0.00392157 0.         0.\n",
            " 0.         0.         0.         0.         0.         0.\n",
            " 0.         0.         0.         0.         0.         0.\n",
            " 0.         0.         0.         0.         0.         0.\n",
            " 0.         0.         0.         0.31764706 0.94117647 0.99215686\n",
            " 0.99215686 0.46666667 0.09803922 0.         0.         0.\n",
            " 0.         0.         0.         0.         0.         0.\n",
            " 0.         0.         0.         0.         0.         0.\n",
            " 0.         0.         0.         0.         0.         0.\n",
            " 0.         0.         0.17647059 0.72941176 0.99215686 0.99215686\n",
            " 0.58823529 0.10588235 0.         0.         0.         0.\n",
            " 0.         0.         0.         0.         0.         0.\n",
            " 0.         0.         0.         0.         0.         0.\n",
            " 0.         0.         0.         0.         0.         0.\n",
            " 0.         0.0627451  0.36470588 0.98823529 0.99215686 0.73333333\n",
            " 0.         0.         0.         0.         0.         0.\n",
            " 0.         0.         0.         0.         0.         0.\n",
            " 0.         0.         0.         0.         0.         0.\n",
            " 0.         0.         0.         0.         0.         0.\n",
            " 0.         0.97647059 0.99215686 0.97647059 0.25098039 0.\n",
            " 0.         0.         0.         0.         0.         0.\n",
            " 0.         0.         0.         0.         0.         0.\n",
            " 0.         0.         0.         0.         0.         0.\n",
            " 0.         0.         0.18039216 0.50980392 0.71764706 0.99215686\n",
            " 0.99215686 0.81176471 0.00784314 0.         0.         0.\n",
            " 0.         0.         0.         0.         0.         0.\n",
            " 0.         0.         0.         0.         0.         0.\n",
            " 0.         0.         0.         0.         0.15294118 0.58039216\n",
            " 0.89803922 0.99215686 0.99215686 0.99215686 0.98039216 0.71372549\n",
            " 0.         0.         0.         0.         0.         0.\n",
            " 0.         0.         0.         0.         0.         0.\n",
            " 0.         0.         0.         0.         0.         0.\n",
            " 0.09411765 0.44705882 0.86666667 0.99215686 0.99215686 0.99215686\n",
            " 0.99215686 0.78823529 0.30588235 0.         0.         0.\n",
            " 0.         0.         0.         0.         0.         0.\n",
            " 0.         0.         0.         0.         0.         0.\n",
            " 0.         0.         0.09019608 0.25882353 0.83529412 0.99215686\n",
            " 0.99215686 0.99215686 0.99215686 0.77647059 0.31764706 0.00784314\n",
            " 0.         0.         0.         0.         0.         0.\n",
            " 0.         0.         0.         0.         0.         0.\n",
            " 0.         0.         0.         0.         0.07058824 0.67058824\n",
            " 0.85882353 0.99215686 0.99215686 0.99215686 0.99215686 0.76470588\n",
            " 0.31372549 0.03529412 0.         0.         0.         0.\n",
            " 0.         0.         0.         0.         0.         0.\n",
            " 0.         0.         0.         0.         0.         0.\n",
            " 0.21568627 0.6745098  0.88627451 0.99215686 0.99215686 0.99215686\n",
            " 0.99215686 0.95686275 0.52156863 0.04313725 0.         0.\n",
            " 0.         0.         0.         0.         0.         0.\n",
            " 0.         0.         0.         0.         0.         0.\n",
            " 0.         0.         0.         0.         0.53333333 0.99215686\n",
            " 0.99215686 0.99215686 0.83137255 0.52941176 0.51764706 0.0627451\n",
            " 0.         0.         0.         0.         0.         0.\n",
            " 0.         0.         0.         0.         0.         0.\n",
            " 0.         0.         0.         0.         0.         0.\n",
            " 0.         0.         0.         0.         0.         0.\n",
            " 0.         0.         0.         0.         0.         0.\n",
            " 0.         0.         0.         0.         0.         0.\n",
            " 0.         0.         0.         0.         0.         0.\n",
            " 0.         0.         0.         0.         0.         0.\n",
            " 0.         0.         0.         0.         0.         0.\n",
            " 0.         0.         0.         0.         0.         0.\n",
            " 0.         0.         0.         0.         0.         0.\n",
            " 0.         0.         0.         0.         0.         0.\n",
            " 0.         0.         0.         0.         0.         0.\n",
            " 0.         0.         0.         0.         0.         0.\n",
            " 0.         0.         0.         0.         0.         0.\n",
            " 0.         0.         0.         0.         0.         0.\n",
            " 0.         0.         0.         0.        ]\n"
          ]
        }
      ]
    },
    {
      "cell_type": "code",
      "source": [
        "print(\"Class label for train images\", y_train[0])"
      ],
      "metadata": {
        "colab": {
          "base_uri": "https://localhost:8080/"
        },
        "id": "2hmeSuS7b6us",
        "outputId": "8dc86acb-97ef-4ac5-ac25-78a08e23d71b"
      },
      "execution_count": 11,
      "outputs": [
        {
          "output_type": "stream",
          "name": "stdout",
          "text": [
            "Class label for train images 5\n"
          ]
        }
      ]
    },
    {
      "cell_type": "code",
      "source": [
        "y_train = np_utils.to_categorical(y_train, 10)\n",
        "y_test = np_utils.to_categorical(y_test, 10)"
      ],
      "metadata": {
        "id": "GVDmUcyUcMC1"
      },
      "execution_count": 12,
      "outputs": []
    },
    {
      "cell_type": "code",
      "source": [
        "print(\"after conversion of output to vector:\", y_train[0]) # number is 5, thats why 5th position alone will be 1"
      ],
      "metadata": {
        "colab": {
          "base_uri": "https://localhost:8080/"
        },
        "id": "HNz5k197dKgw",
        "outputId": "720a90f0-ee3c-4557-f90b-82cbe90a528b"
      },
      "execution_count": 13,
      "outputs": [
        {
          "output_type": "stream",
          "name": "stdout",
          "text": [
            "after conversion of output to vector: [0. 0. 0. 0. 0. 1. 0. 0. 0. 0.]\n"
          ]
        }
      ]
    },
    {
      "cell_type": "code",
      "source": [
        "from keras.models import Sequential\n",
        "from keras.layers import Dense, Activation"
      ],
      "metadata": {
        "id": "0hNiK6G5dSBl"
      },
      "execution_count": 14,
      "outputs": []
    },
    {
      "cell_type": "code",
      "source": [
        "output_dim =10\n",
        "input_dim =x_train.shape[1]\n",
        "\n",
        "batch_size =128\n",
        "nb_epoch =20"
      ],
      "metadata": {
        "id": "GSXk3yUUjdLh"
      },
      "execution_count": 15,
      "outputs": []
    },
    {
      "cell_type": "code",
      "source": [
        "model=Sequential()\n",
        "\n",
        "model.add(Dense(output_dim, input_dim=input_dim , activation='softmax'))"
      ],
      "metadata": {
        "id": "VfK72JGYkHa5"
      },
      "execution_count": 16,
      "outputs": []
    },
    {
      "cell_type": "code",
      "source": [
        "model.compile(optimizer='sgd', loss='categorical_crossentropy', metrics= ['accuracy'])"
      ],
      "metadata": {
        "id": "tU-BlZLEljA5"
      },
      "execution_count": 17,
      "outputs": []
    },
    {
      "cell_type": "code",
      "source": [
        "history = model.fit(x_train, y_train, batch_size=batch_size, epochs=nb_epoch, verbose=1, validation_data=(x_test, y_test))"
      ],
      "metadata": {
        "colab": {
          "base_uri": "https://localhost:8080/"
        },
        "id": "Cr7ASfgStgHi",
        "outputId": "1f3872bb-d603-42de-c83d-18a5cb6769ef"
      },
      "execution_count": 18,
      "outputs": [
        {
          "output_type": "stream",
          "name": "stdout",
          "text": [
            "Epoch 1/20\n",
            "469/469 [==============================] - 4s 3ms/step - loss: 1.2744 - accuracy: 0.6972 - val_loss: 0.8066 - val_accuracy: 0.8367\n",
            "Epoch 2/20\n",
            "469/469 [==============================] - 1s 3ms/step - loss: 0.7144 - accuracy: 0.8421 - val_loss: 0.6041 - val_accuracy: 0.8640\n",
            "Epoch 3/20\n",
            "469/469 [==============================] - 1s 3ms/step - loss: 0.5861 - accuracy: 0.8600 - val_loss: 0.5234 - val_accuracy: 0.8730\n",
            "Epoch 4/20\n",
            "469/469 [==============================] - 1s 3ms/step - loss: 0.5245 - accuracy: 0.8699 - val_loss: 0.4780 - val_accuracy: 0.8797\n",
            "Epoch 5/20\n",
            "469/469 [==============================] - 1s 3ms/step - loss: 0.4870 - accuracy: 0.8759 - val_loss: 0.4490 - val_accuracy: 0.8850\n",
            "Epoch 6/20\n",
            "469/469 [==============================] - 1s 3ms/step - loss: 0.4613 - accuracy: 0.8802 - val_loss: 0.4274 - val_accuracy: 0.8905\n",
            "Epoch 7/20\n",
            "469/469 [==============================] - 1s 3ms/step - loss: 0.4421 - accuracy: 0.8841 - val_loss: 0.4119 - val_accuracy: 0.8930\n",
            "Epoch 8/20\n",
            "469/469 [==============================] - 1s 3ms/step - loss: 0.4273 - accuracy: 0.8859 - val_loss: 0.3987 - val_accuracy: 0.8955\n",
            "Epoch 9/20\n",
            "469/469 [==============================] - 1s 3ms/step - loss: 0.4152 - accuracy: 0.8892 - val_loss: 0.3885 - val_accuracy: 0.8982\n",
            "Epoch 10/20\n",
            "469/469 [==============================] - 1s 3ms/step - loss: 0.4053 - accuracy: 0.8913 - val_loss: 0.3801 - val_accuracy: 0.8992\n",
            "Epoch 11/20\n",
            "469/469 [==============================] - 1s 3ms/step - loss: 0.3968 - accuracy: 0.8929 - val_loss: 0.3725 - val_accuracy: 0.9007\n",
            "Epoch 12/20\n",
            "469/469 [==============================] - 1s 3ms/step - loss: 0.3896 - accuracy: 0.8942 - val_loss: 0.3664 - val_accuracy: 0.9017\n",
            "Epoch 13/20\n",
            "469/469 [==============================] - 1s 3ms/step - loss: 0.3832 - accuracy: 0.8959 - val_loss: 0.3608 - val_accuracy: 0.9034\n",
            "Epoch 14/20\n",
            "469/469 [==============================] - 1s 3ms/step - loss: 0.3776 - accuracy: 0.8972 - val_loss: 0.3561 - val_accuracy: 0.9040\n",
            "Epoch 15/20\n",
            "469/469 [==============================] - 1s 3ms/step - loss: 0.3726 - accuracy: 0.8983 - val_loss: 0.3515 - val_accuracy: 0.9054\n",
            "Epoch 16/20\n",
            "469/469 [==============================] - 1s 3ms/step - loss: 0.3681 - accuracy: 0.8991 - val_loss: 0.3476 - val_accuracy: 0.9059\n",
            "Epoch 17/20\n",
            "469/469 [==============================] - 1s 3ms/step - loss: 0.3640 - accuracy: 0.9002 - val_loss: 0.3440 - val_accuracy: 0.9057\n",
            "Epoch 18/20\n",
            "469/469 [==============================] - 1s 3ms/step - loss: 0.3603 - accuracy: 0.9008 - val_loss: 0.3407 - val_accuracy: 0.9065\n",
            "Epoch 19/20\n",
            "469/469 [==============================] - 1s 3ms/step - loss: 0.3569 - accuracy: 0.9017 - val_loss: 0.3378 - val_accuracy: 0.9071\n",
            "Epoch 20/20\n",
            "469/469 [==============================] - 1s 3ms/step - loss: 0.3537 - accuracy: 0.9025 - val_loss: 0.3350 - val_accuracy: 0.9082\n"
          ]
        }
      ]
    },
    {
      "cell_type": "code",
      "source": [
        "score = model.evaluate(x_test, y_test, verbose=0)\n",
        "print(\"Test Score:\", score[0])\n",
        "print(\"Test Accuracy:\", score[1])"
      ],
      "metadata": {
        "colab": {
          "base_uri": "https://localhost:8080/"
        },
        "id": "tvhDRDEAvc63",
        "outputId": "4552e8d3-10e5-42ac-b4b2-2757fc9edb5f"
      },
      "execution_count": 19,
      "outputs": [
        {
          "output_type": "stream",
          "name": "stdout",
          "text": [
            "Test Score: 0.33502429723739624\n",
            "Test Accuracy: 0.9082000255584717\n"
          ]
        }
      ]
    },
    {
      "cell_type": "code",
      "source": [
        "fig, ax = plt.subplots(1,1)\n",
        "ax.set_xlabel('Epochs')\n",
        "ax.set_ylabel('Categorical CrossEntropy Loss')\n",
        "\n",
        "x= list(range(1, nb_epoch+1))\n",
        "\n",
        "vy = history.history['val_loss']\n",
        "ty = history.history['loss']\n",
        "plt_dynamic(x, vy, ty, ax)\n"
      ],
      "metadata": {
        "colab": {
          "base_uri": "https://localhost:8080/",
          "height": 279
        },
        "id": "6lT3BV8VwQqC",
        "outputId": "83330bb7-7756-4e89-ef40-0986a5485983"
      },
      "execution_count": 20,
      "outputs": [
        {
          "output_type": "display_data",
          "data": {
            "text/plain": [
              "<Figure size 432x288 with 1 Axes>"
            ],
            "image/png": "[encoded data removed]"
          },
          "metadata": {
            "needs_background": "light"
          }
        }
      ]
    },
    {
      "cell_type": "markdown",
      "source": [
        "MLP + Sigmoid Activation + SGD Optimizer\n",
        " "
      ],
      "metadata": {
        "id": "uZCAvEb670oQ"
      }
    },
    {
      "cell_type": "code",
      "source": [
        "model_sigmoid= Sequential()\n",
        "\n",
        "model_sigmoid.add(Dense(512, activation = 'sigmoid', input_shape=(input_dim,)))\n",
        "model_sigmoid.add(Dense(128, activation='sigmoid'))\n",
        "model_sigmoid.add(Dense(output_dim, activation='softmax'))\n",
        "\n",
        "\n",
        "model_sigmoid.summary()\n"
      ],
      "metadata": {
        "colab": {
          "base_uri": "https://localhost:8080/"
        },
        "id": "IyVz-eZd4lX8",
        "outputId": "ca57de69-21eb-4819-e169-8d3aa8405814"
      },
      "execution_count": 21,
      "outputs": [
        {
          "output_type": "stream",
          "name": "stdout",
          "text": [
            "Model: \"sequential_1\"\n",
            "_________________________________________________________________\n",
            " Layer (type)                Output Shape              Param #   \n",
            "=================================================================\n",
            " dense_1 (Dense)             (None, 512)               401920    \n",
            "                                                                 \n",
            " dense_2 (Dense)             (None, 128)               65664     \n",
            "                                                                 \n",
            " dense_3 (Dense)             (None, 10)                1290      \n",
            "                                                                 \n",
            "=================================================================\n",
            "Total params: 468,874\n",
            "Trainable params: 468,874\n",
            "Non-trainable params: 0\n",
            "_________________________________________________________________\n"
          ]
        }
      ]
    },
    {
      "cell_type": "code",
      "source": [
        "model_sigmoid.compile(optimizer='sgd', loss='categorical_crossentropy', metrics=['accuracy'])\n",
        "\n",
        "history_sigmoid= model_sigmoid.fit(x_train, y_train, batch_size=120, epochs=20, verbose=1, validation_data=(x_test, y_test))"
      ],
      "metadata": {
        "colab": {
          "base_uri": "https://localhost:8080/"
        },
        "id": "Cq5Hn5Qp89ZX",
        "outputId": "140de09f-2398-48b1-9962-f566cc3dccbc"
      },
      "execution_count": 22,
      "outputs": [
        {
          "output_type": "stream",
          "name": "stdout",
          "text": [
            "Epoch 1/20\n",
            "500/500 [==============================] - 2s 3ms/step - loss: 2.2632 - accuracy: 0.2285 - val_loss: 2.2152 - val_accuracy: 0.3308\n",
            "Epoch 2/20\n",
            "500/500 [==============================] - 2s 3ms/step - loss: 2.1659 - accuracy: 0.4626 - val_loss: 2.1029 - val_accuracy: 0.5325\n",
            "Epoch 3/20\n",
            "500/500 [==============================] - 2s 4ms/step - loss: 2.0318 - accuracy: 0.5900 - val_loss: 1.9383 - val_accuracy: 0.6372\n",
            "Epoch 4/20\n",
            "500/500 [==============================] - 2s 5ms/step - loss: 1.8386 - accuracy: 0.6592 - val_loss: 1.7112 - val_accuracy: 0.6941\n",
            "Epoch 5/20\n",
            "500/500 [==============================] - 2s 3ms/step - loss: 1.5994 - accuracy: 0.7055 - val_loss: 1.4617 - val_accuracy: 0.7478\n",
            "Epoch 6/20\n",
            "500/500 [==============================] - 2s 3ms/step - loss: 1.3635 - accuracy: 0.7446 - val_loss: 1.2401 - val_accuracy: 0.7847\n",
            "Epoch 7/20\n",
            "500/500 [==============================] - 2s 3ms/step - loss: 1.1643 - accuracy: 0.7750 - val_loss: 1.0605 - val_accuracy: 0.7904\n",
            "Epoch 8/20\n",
            "500/500 [==============================] - 2s 3ms/step - loss: 1.0063 - accuracy: 0.7944 - val_loss: 0.9213 - val_accuracy: 0.8070\n",
            "Epoch 9/20\n",
            "500/500 [==============================] - 2s 3ms/step - loss: 0.8849 - accuracy: 0.8096 - val_loss: 0.8160 - val_accuracy: 0.8265\n",
            "Epoch 10/20\n",
            "500/500 [==============================] - 2s 3ms/step - loss: 0.7926 - accuracy: 0.8220 - val_loss: 0.7359 - val_accuracy: 0.8343\n",
            "Epoch 11/20\n",
            "500/500 [==============================] - 2s 3ms/step - loss: 0.7218 - accuracy: 0.8316 - val_loss: 0.6741 - val_accuracy: 0.8411\n",
            "Epoch 12/20\n",
            "500/500 [==============================] - 2s 3ms/step - loss: 0.6666 - accuracy: 0.8397 - val_loss: 0.6250 - val_accuracy: 0.8461\n",
            "Epoch 13/20\n",
            "500/500 [==============================] - 2s 3ms/step - loss: 0.6228 - accuracy: 0.8463 - val_loss: 0.5861 - val_accuracy: 0.8559\n",
            "Epoch 14/20\n",
            "500/500 [==============================] - 2s 3ms/step - loss: 0.5870 - accuracy: 0.8526 - val_loss: 0.5542 - val_accuracy: 0.8627\n",
            "Epoch 15/20\n",
            "500/500 [==============================] - 2s 3ms/step - loss: 0.5575 - accuracy: 0.8577 - val_loss: 0.5271 - val_accuracy: 0.8667\n",
            "Epoch 16/20\n",
            "500/500 [==============================] - 2s 3ms/step - loss: 0.5326 - accuracy: 0.8625 - val_loss: 0.5033 - val_accuracy: 0.8710\n",
            "Epoch 17/20\n",
            "500/500 [==============================] - 2s 3ms/step - loss: 0.5114 - accuracy: 0.8669 - val_loss: 0.4834 - val_accuracy: 0.8748\n",
            "Epoch 18/20\n",
            "500/500 [==============================] - 2s 3ms/step - loss: 0.4930 - accuracy: 0.8705 - val_loss: 0.4672 - val_accuracy: 0.8773\n",
            "Epoch 19/20\n",
            "500/500 [==============================] - 2s 3ms/step - loss: 0.4770 - accuracy: 0.8739 - val_loss: 0.4518 - val_accuracy: 0.8809\n",
            "Epoch 20/20\n",
            "500/500 [==============================] - 2s 3ms/step - loss: 0.4631 - accuracy: 0.8766 - val_loss: 0.4390 - val_accuracy: 0.8826\n"
          ]
        }
      ]
    },
    {
      "cell_type": "code",
      "source": [
        "score = model_sigmoid.evaluate(x_test, y_test, verbose=0)\n",
        "print(\"Test Score:\", score[0])\n",
        "print(\"Test Accuracy:\", score[1])"
      ],
      "metadata": {
        "colab": {
          "base_uri": "https://localhost:8080/"
        },
        "id": "Gwd6wQda9tZK",
        "outputId": "38049d25-9eec-4f85-e3a8-db91f8747356"
      },
      "execution_count": 23,
      "outputs": [
        {
          "output_type": "stream",
          "name": "stdout",
          "text": [
            "Test Score: 0.43896323442459106\n",
            "Test Accuracy: 0.8826000094413757\n"
          ]
        }
      ]
    },
    {
      "cell_type": "code",
      "source": [],
      "metadata": {
        "id": "lan3Hc6_EFJH"
      },
      "execution_count": 23,
      "outputs": []
    },
    {
      "cell_type": "code",
      "source": [
        "fig, ax = plt.subplots(1,1)\n",
        "ax.set_xlabel('Epochs')\n",
        "ax.set_ylabel('Categorical CrossEntropy Loss')\n",
        "\n",
        "x= list(range(1, nb_epoch+1))\n",
        "\n",
        "vy = history_sigmoid.history['val_loss']\n",
        "ty = history_sigmoid.history['loss']\n",
        "plt_dynamic(x, vy, ty, ax)\n"
      ],
      "metadata": {
        "colab": {
          "base_uri": "https://localhost:8080/",
          "height": 279
        },
        "id": "GOm2YDSN-FHI",
        "outputId": "206450e4-458c-43ce-f3d4-d0f6abbc8d16"
      },
      "execution_count": 24,
      "outputs": [
        {
          "output_type": "display_data",
          "data": {
            "text/plain": [
              "<Figure size 432x288 with 1 Axes>"
            ],
            "image/png": "[encoded data removed]"
          },
          "metadata": {
            "needs_background": "light"
          }
        }
      ]
    },
    {
      "cell_type": "code",
      "source": [
        "w_after = model_sigmoid.get_weights()\n",
        "\n",
        "h1_w =w_after[0].flatten().reshape(-1,1)\n",
        "h2_w =w_after[2].flatten().reshape(-1,1)\n",
        "out_w =w_after[4].flatten().reshape(-1,1)\n",
        "\n",
        "fig = plt.figure()\n",
        "plt.title(\"Weight matrices after model trained\")\n",
        "\n",
        "plt.subplot(1,3,1)\n",
        "plt.title(\"Trained model weights\")\n",
        "ax = sns.violinplot(y=h1_w, color='b')\n",
        "plt.xlabel('Hidden Layer 1')\n",
        "\n",
        "plt.subplot(1,3,2)\n",
        "plt.title(\"Trained model weights\")\n",
        "ax = sns.violinplot(y=h2_w, color='r')\n",
        "plt.xlabel('Hidden Layer 2')\n",
        "\n",
        "plt.subplot(1,3,3)\n",
        "plt.title(\"Trained model weights\")\n",
        "ax = sns.violinplot(y=out_w, color='y')\n",
        "plt.xlabel('Output Layer')\n",
        "plt.show"
      ],
      "metadata": {
        "colab": {
          "base_uri": "https://localhost:8080/",
          "height": 302
        },
        "id": "FQOpYz6t-VJ9",
        "outputId": "f72ba275-5858-4a6f-c9b3-e7f147b5866b"
      },
      "execution_count": 25,
      "outputs": [
        {
          "output_type": "execute_result",
          "data": {
            "text/plain": [
              "<function matplotlib.pyplot.show(*args, **kw)>"
            ]
          },
          "metadata": {},
          "execution_count": 25
        },
        {
          "output_type": "display_data",
          "data": {
            "text/plain": [
              "<Figure size 432x288 with 3 Axes>"
            ],
            "image/png": "[encoded data removed]"
          },
          "metadata": {
            "needs_background": "light"
          }
        }
      ]
    },
    {
      "cell_type": "markdown",
      "source": [
        "MLP + Sigmoid Activation + ADAM Optimizer"
      ],
      "metadata": {
        "id": "fpfIha1gGRgD"
      }
    },
    {
      "cell_type": "code",
      "source": [
        "model_sigmoid= Sequential()\n",
        "\n",
        "model_sigmoid.add(Dense(512, activation = 'sigmoid', input_shape=(input_dim,)))\n",
        "model_sigmoid.add(Dense(128, activation='sigmoid'))\n",
        "model_sigmoid.add(Dense(output_dim, activation='softmax'))\n",
        "\n",
        "\n",
        "model_sigmoid.summary()\n",
        "\n",
        "model_sigmoid.compile(optimizer='ADAM', loss='categorical_crossentropy', metrics=['accuracy'])\n",
        "\n",
        "history_sigmoid= model_sigmoid.fit(x_train, y_train, batch_size=120, epochs=20, verbose=1, validation_data=(x_test, y_test))"
      ],
      "metadata": {
        "id": "yQwmxr19G-dZ",
        "colab": {
          "base_uri": "https://localhost:8080/"
        },
        "outputId": "f8771e3b-4214-427f-a532-4b0c0e10717e"
      },
      "execution_count": 26,
      "outputs": [
        {
          "output_type": "stream",
          "name": "stdout",
          "text": [
            "Model: \"sequential_2\"\n",
            "_________________________________________________________________\n",
            " Layer (type)                Output Shape              Param #   \n",
            "=================================================================\n",
            " dense_4 (Dense)             (None, 512)               401920    \n",
            "                                                                 \n",
            " dense_5 (Dense)             (None, 128)               65664     \n",
            "                                                                 \n",
            " dense_6 (Dense)             (None, 10)                1290      \n",
            "                                                                 \n",
            "=================================================================\n",
            "Total params: 468,874\n",
            "Trainable params: 468,874\n",
            "Non-trainable params: 0\n",
            "_________________________________________________________________\n",
            "Epoch 1/20\n",
            "500/500 [==============================] - 2s 4ms/step - loss: 0.5281 - accuracy: 0.8598 - val_loss: 0.2554 - val_accuracy: 0.9260\n",
            "Epoch 2/20\n",
            "500/500 [==============================] - 2s 3ms/step - loss: 0.2177 - accuracy: 0.9359 - val_loss: 0.1927 - val_accuracy: 0.9443\n",
            "Epoch 3/20\n",
            "500/500 [==============================] - 2s 3ms/step - loss: 0.1605 - accuracy: 0.9524 - val_loss: 0.1450 - val_accuracy: 0.9558\n",
            "Epoch 4/20\n",
            "500/500 [==============================] - 2s 3ms/step - loss: 0.1228 - accuracy: 0.9631 - val_loss: 0.1190 - val_accuracy: 0.9637\n",
            "Epoch 5/20\n",
            "500/500 [==============================] - 2s 3ms/step - loss: 0.0975 - accuracy: 0.9708 - val_loss: 0.1055 - val_accuracy: 0.9674\n",
            "Epoch 6/20\n",
            "500/500 [==============================] - 1s 3ms/step - loss: 0.0775 - accuracy: 0.9771 - val_loss: 0.0857 - val_accuracy: 0.9730\n",
            "Epoch 7/20\n",
            "500/500 [==============================] - 2s 3ms/step - loss: 0.0627 - accuracy: 0.9818 - val_loss: 0.0818 - val_accuracy: 0.9735\n",
            "Epoch 8/20\n",
            "500/500 [==============================] - 2s 3ms/step - loss: 0.0515 - accuracy: 0.9844 - val_loss: 0.0768 - val_accuracy: 0.9756\n",
            "Epoch 9/20\n",
            "500/500 [==============================] - 2s 3ms/step - loss: 0.0419 - accuracy: 0.9879 - val_loss: 0.0706 - val_accuracy: 0.9771\n",
            "Epoch 10/20\n",
            "500/500 [==============================] - 2s 3ms/step - loss: 0.0335 - accuracy: 0.9907 - val_loss: 0.0642 - val_accuracy: 0.9795\n",
            "Epoch 11/20\n",
            "500/500 [==============================] - 2s 3ms/step - loss: 0.0273 - accuracy: 0.9924 - val_loss: 0.0665 - val_accuracy: 0.9805\n",
            "Epoch 12/20\n",
            "500/500 [==============================] - 2s 3ms/step - loss: 0.0214 - accuracy: 0.9945 - val_loss: 0.0647 - val_accuracy: 0.9812\n",
            "Epoch 13/20\n",
            "500/500 [==============================] - 2s 3ms/step - loss: 0.0179 - accuracy: 0.9953 - val_loss: 0.0646 - val_accuracy: 0.9796\n",
            "Epoch 14/20\n",
            "500/500 [==============================] - 2s 3ms/step - loss: 0.0142 - accuracy: 0.9965 - val_loss: 0.0634 - val_accuracy: 0.9824\n",
            "Epoch 15/20\n",
            "500/500 [==============================] - 2s 3ms/step - loss: 0.0110 - accuracy: 0.9975 - val_loss: 0.0689 - val_accuracy: 0.9790\n",
            "Epoch 16/20\n",
            "500/500 [==============================] - 2s 3ms/step - loss: 0.0086 - accuracy: 0.9981 - val_loss: 0.0668 - val_accuracy: 0.9811\n",
            "Epoch 17/20\n",
            "500/500 [==============================] - 2s 3ms/step - loss: 0.0071 - accuracy: 0.9986 - val_loss: 0.0696 - val_accuracy: 0.9809\n",
            "Epoch 18/20\n",
            "500/500 [==============================] - 2s 3ms/step - loss: 0.0056 - accuracy: 0.9990 - val_loss: 0.0678 - val_accuracy: 0.9820\n",
            "Epoch 19/20\n",
            "500/500 [==============================] - 2s 3ms/step - loss: 0.0041 - accuracy: 0.9994 - val_loss: 0.0662 - val_accuracy: 0.9816\n",
            "Epoch 20/20\n",
            "500/500 [==============================] - 2s 3ms/step - loss: 0.0064 - accuracy: 0.9979 - val_loss: 0.0727 - val_accuracy: 0.9804\n"
          ]
        }
      ]
    },
    {
      "cell_type": "code",
      "source": [
        "score = model_sigmoid.evaluate(x_test, y_test, verbose=0)\n",
        "print(\"Test Score:\", score[0])\n",
        "print(\"Test Accuracy:\", score[1])\n",
        "\n",
        "fig, ax = plt.subplots(1,1)\n",
        "ax.set_xlabel('Epochs')\n",
        "ax.set_ylabel('Categorical CrossEntropy Loss')\n",
        "\n",
        "x= list(range(1, nb_epoch+1))\n",
        "\n",
        "vy = history_sigmoid.history['val_loss']\n",
        "ty = history_sigmoid.history['loss']\n",
        "plt_dynamic(x, vy, ty, ax)\n"
      ],
      "metadata": {
        "colab": {
          "base_uri": "https://localhost:8080/",
          "height": 314
        },
        "id": "MB2ZHCjtGhhf",
        "outputId": "91b038b8-8620-44ee-f2ba-e01406dd5464"
      },
      "execution_count": 27,
      "outputs": [
        {
          "output_type": "stream",
          "name": "stdout",
          "text": [
            "Test Score: 0.07274271547794342\n",
            "Test Accuracy: 0.980400025844574\n"
          ]
        },
        {
          "output_type": "display_data",
          "data": {
            "text/plain": [
              "<Figure size 432x288 with 1 Axes>"
            ],
            "image/png": "[encoded data removed]"
          },
          "metadata": {
            "needs_background": "light"
          }
        }
      ]
    },
    {
      "cell_type": "code",
      "source": [
        "w_after = model_sigmoid.get_weights()\n",
        "\n",
        "h1_w =w_after[0].flatten().reshape(-1,1)\n",
        "h2_w =w_after[2].flatten().reshape(-1,1)\n",
        "out_w =w_after[4].flatten().reshape(-1,1)\n",
        "\n",
        "fig = plt.figure()\n",
        "plt.title(\"Weight matrices after model trained\")\n",
        "\n",
        "plt.subplot(1,3,1)\n",
        "plt.title(\"Trained model weights\")\n",
        "ax = sns.violinplot(y=h1_w, color='b')\n",
        "plt.xlabel('Hidden Layer 1')\n",
        "\n",
        "plt.subplot(1,3,2)\n",
        "plt.title(\"Trained model weights\")\n",
        "ax = sns.violinplot(y=h2_w, color='r')\n",
        "plt.xlabel('Hidden Layer 2')\n",
        "\n",
        "plt.subplot(1,3,3)\n",
        "plt.title(\"Trained model weights\")\n",
        "ax = sns.violinplot(y=out_w, color='y')\n",
        "plt.xlabel('Output Layer')\n",
        "plt.show"
      ],
      "metadata": {
        "colab": {
          "base_uri": "https://localhost:8080/",
          "height": 302
        },
        "id": "G7ONU3XgG1XZ",
        "outputId": "a2e40e9b-c803-45c1-ad68-30a843f5e43a"
      },
      "execution_count": 28,
      "outputs": [
        {
          "output_type": "execute_result",
          "data": {
            "text/plain": [
              "<function matplotlib.pyplot.show(*args, **kw)>"
            ]
          },
          "metadata": {},
          "execution_count": 28
        },
        {
          "output_type": "display_data",
          "data": {
            "text/plain": [
              "<Figure size 432x288 with 3 Axes>"
            ],
            "image/png": "[encoded data removed]"
          },
          "metadata": {
            "needs_background": "light"
          }
        }
      ]
    },
    {
      "cell_type": "markdown",
      "source": [
        "MLP + Relu Activation + ADAM Optimizer"
      ],
      "metadata": {
        "id": "zhFVJ1PBIIDW"
      }
    },
    {
      "cell_type": "code",
      "source": [
        "model_relu= Sequential()\n",
        "\n",
        "model_relu.add(Dense(512, activation = 'relu', input_shape=(input_dim,), kernel_initializer=RandomNormal(mean=0.0, stddev =0.125, seed=None)))\n",
        "model_relu.add(Dense(128, activation='relu',  kernel_initializer=RandomNormal(mean=0.0, stddev =0.125, seed=None)))\n",
        "model_relu.add(Dense(output_dim, activation='softmax'))\n",
        "\n",
        "\n",
        "model_relu.summary()\n",
        "\n",
        "model_relu.compile(optimizer='ADAM', loss='categorical_crossentropy', metrics=['accuracy'])\n",
        "\n",
        "history_relu = model_relu.fit(x_train, y_train, batch_size=120, epochs=20, verbose=1, validation_data=(x_test, y_test))"
      ],
      "metadata": {
        "colab": {
          "base_uri": "https://localhost:8080/"
        },
        "id": "U6QW2WgcG8cV",
        "outputId": "2097018f-e52b-420e-aa56-b1dff4f8cce2"
      },
      "execution_count": 29,
      "outputs": [
        {
          "output_type": "stream",
          "name": "stdout",
          "text": [
            "Model: \"sequential_3\"\n",
            "_________________________________________________________________\n",
            " Layer (type)                Output Shape              Param #   \n",
            "=================================================================\n",
            " dense_7 (Dense)             (None, 512)               401920    \n",
            "                                                                 \n",
            " dense_8 (Dense)             (None, 128)               65664     \n",
            "                                                                 \n",
            " dense_9 (Dense)             (None, 10)                1290      \n",
            "                                                                 \n",
            "=================================================================\n",
            "Total params: 468,874\n",
            "Trainable params: 468,874\n",
            "Non-trainable params: 0\n",
            "_________________________________________________________________\n",
            "Epoch 1/20\n",
            "500/500 [==============================] - 4s 6ms/step - loss: 0.2553 - accuracy: 0.9242 - val_loss: 0.1238 - val_accuracy: 0.9609\n",
            "Epoch 2/20\n",
            "500/500 [==============================] - 2s 5ms/step - loss: 0.0896 - accuracy: 0.9727 - val_loss: 0.1033 - val_accuracy: 0.9675\n",
            "Epoch 3/20\n",
            "500/500 [==============================] - 2s 3ms/step - loss: 0.0532 - accuracy: 0.9837 - val_loss: 0.0849 - val_accuracy: 0.9728\n",
            "Epoch 4/20\n",
            "500/500 [==============================] - 2s 3ms/step - loss: 0.0354 - accuracy: 0.9888 - val_loss: 0.0778 - val_accuracy: 0.9777\n",
            "Epoch 5/20\n",
            "500/500 [==============================] - 2s 3ms/step - loss: 0.0243 - accuracy: 0.9925 - val_loss: 0.0877 - val_accuracy: 0.9739\n",
            "Epoch 6/20\n",
            "500/500 [==============================] - 2s 3ms/step - loss: 0.0191 - accuracy: 0.9942 - val_loss: 0.0771 - val_accuracy: 0.9777\n",
            "Epoch 7/20\n",
            "500/500 [==============================] - 2s 3ms/step - loss: 0.0133 - accuracy: 0.9961 - val_loss: 0.0817 - val_accuracy: 0.9774\n",
            "Epoch 8/20\n",
            "500/500 [==============================] - 2s 4ms/step - loss: 0.0129 - accuracy: 0.9957 - val_loss: 0.0869 - val_accuracy: 0.9779\n",
            "Epoch 9/20\n",
            "500/500 [==============================] - 2s 3ms/step - loss: 0.0126 - accuracy: 0.9959 - val_loss: 0.0906 - val_accuracy: 0.9786\n",
            "Epoch 10/20\n",
            "500/500 [==============================] - 2s 3ms/step - loss: 0.0132 - accuracy: 0.9955 - val_loss: 0.0830 - val_accuracy: 0.9763\n",
            "Epoch 11/20\n",
            "500/500 [==============================] - 2s 3ms/step - loss: 0.0089 - accuracy: 0.9969 - val_loss: 0.0910 - val_accuracy: 0.9769\n",
            "Epoch 12/20\n",
            "500/500 [==============================] - 2s 3ms/step - loss: 0.0135 - accuracy: 0.9953 - val_loss: 0.0867 - val_accuracy: 0.9793\n",
            "Epoch 13/20\n",
            "500/500 [==============================] - 2s 3ms/step - loss: 0.0075 - accuracy: 0.9976 - val_loss: 0.0836 - val_accuracy: 0.9812\n",
            "Epoch 14/20\n",
            "500/500 [==============================] - 2s 3ms/step - loss: 0.0108 - accuracy: 0.9964 - val_loss: 0.1248 - val_accuracy: 0.9727\n",
            "Epoch 15/20\n",
            "500/500 [==============================] - 2s 3ms/step - loss: 0.0106 - accuracy: 0.9965 - val_loss: 0.0956 - val_accuracy: 0.9790\n",
            "Epoch 16/20\n",
            "500/500 [==============================] - 3s 5ms/step - loss: 0.0043 - accuracy: 0.9987 - val_loss: 0.0901 - val_accuracy: 0.9814\n",
            "Epoch 17/20\n",
            "500/500 [==============================] - 2s 4ms/step - loss: 0.0033 - accuracy: 0.9990 - val_loss: 0.0962 - val_accuracy: 0.9795\n",
            "Epoch 18/20\n",
            "500/500 [==============================] - 2s 5ms/step - loss: 0.0109 - accuracy: 0.9966 - val_loss: 0.1087 - val_accuracy: 0.9771\n",
            "Epoch 19/20\n",
            "500/500 [==============================] - 2s 3ms/step - loss: 0.0075 - accuracy: 0.9975 - val_loss: 0.0959 - val_accuracy: 0.9800\n",
            "Epoch 20/20\n",
            "500/500 [==============================] - 2s 3ms/step - loss: 0.0067 - accuracy: 0.9979 - val_loss: 0.1033 - val_accuracy: 0.9770\n"
          ]
        }
      ]
    },
    {
      "cell_type": "code",
      "source": [
        "score = model_relu.evaluate(x_test, y_test, verbose=0)\n",
        "print(\"Test Score:\", score[0])\n",
        "print(\"Test Accuracy:\", score[1])\n",
        "\n",
        "fig, ax = plt.subplots(1,1)\n",
        "ax.set_xlabel('Epochs')\n",
        "ax.set_ylabel('Categorical CrossEntropy Loss')\n",
        "\n",
        "x= list(range(1, nb_epoch+1))\n",
        "\n",
        "vy = history_relu.history['val_loss']\n",
        "ty = history_relu.history['loss']\n",
        "plt_dynamic(x, vy, ty, ax)"
      ],
      "metadata": {
        "colab": {
          "base_uri": "https://localhost:8080/",
          "height": 314
        },
        "id": "UUjcRO3LIHJS",
        "outputId": "91ed0067-bc75-48fc-ee46-eff79c1b9c9c"
      },
      "execution_count": 30,
      "outputs": [
        {
          "output_type": "stream",
          "name": "stdout",
          "text": [
            "Test Score: 0.10328225046396255\n",
            "Test Accuracy: 0.9769999980926514\n"
          ]
        },
        {
          "output_type": "display_data",
          "data": {
            "text/plain": [
              "<Figure size 432x288 with 1 Axes>"
            ],
            "image/png": "[encoded data removed]"
          },
          "metadata": {
            "needs_background": "light"
          }
        }
      ]
    },
    {
      "cell_type": "code",
      "source": [
        "history_relu.history.keys()"
      ],
      "metadata": {
        "colab": {
          "base_uri": "https://localhost:8080/"
        },
        "id": "hCyDhuw_JRgk",
        "outputId": "db196c34-96c0-4cad-dfe8-c28727bcf74c"
      },
      "execution_count": 37,
      "outputs": [
        {
          "output_type": "execute_result",
          "data": {
            "text/plain": [
              "dict_keys(['loss', 'accuracy', 'val_loss', 'val_accuracy'])"
            ]
          },
          "metadata": {},
          "execution_count": 37
        }
      ]
    },
    {
      "cell_type": "code",
      "source": [
        "# summarize history for accuracy\n",
        "plt.plot(history_relu.history['accuracy'])\n",
        "plt.plot(history_relu.history['val_accuracy'])\n",
        "plt.title('model accuracy')\n",
        "plt.ylabel('accuracy')\n",
        "plt.xlabel('epoch')\n",
        "plt.legend(['train', 'test'])\n",
        "plt.show()"
      ],
      "metadata": {
        "colab": {
          "base_uri": "https://localhost:8080/",
          "height": 295
        },
        "id": "95QStLg2Jm-B",
        "outputId": "159c645f-2dc9-4bb0-c976-493d2da383c3"
      },
      "execution_count": 39,
      "outputs": [
        {
          "output_type": "display_data",
          "data": {
            "text/plain": [
              "<Figure size 432x288 with 1 Axes>"
            ],
            "image/png": "[encoded data removed]"
          },
          "metadata": {
            "needs_background": "light"
          }
        }
      ]
    },
    {
      "cell_type": "markdown",
      "source": [
        "MLP + Relu + Batch Normalization + Adam Optimizer\n"
      ],
      "metadata": {
        "id": "d-QNwqmOSFp2"
      }
    },
    {
      "cell_type": "code",
      "source": [
        "from keras.layers.normalization.batch_normalization_v1 import BatchNormalization\n",
        "model_batch= Sequential()\n",
        "\n",
        "model_batch.add(Dense(512, activation = 'relu', input_shape=(input_dim,), kernel_initializer=RandomNormal(mean=0.0, stddev =0.125, seed=None)))\n",
        "model_batch.add(BatchNormalization())\n",
        "model_batch.add(Dense(128, activation='relu',  kernel_initializer=RandomNormal(mean=0.0, stddev =0.125, seed=None)))\n",
        "model_batch.add(BatchNormalization())\n",
        "model_batch.add(Dense(output_dim, activation='softmax'))\n",
        "\n",
        "\n",
        "model_batch.summary()\n",
        "\n",
        "model_batch.compile(optimizer='ADAM', loss='categorical_crossentropy', metrics=['accuracy'])\n",
        "\n",
        "history_batch = model_batch.fit(x_train, y_train, batch_size=120, epochs=20, verbose=1, validation_data=(x_test, y_test))"
      ],
      "metadata": {
        "colab": {
          "base_uri": "https://localhost:8080/"
        },
        "id": "zdJqR2DHOZwl",
        "outputId": "240dcedd-8b6c-4b4e-ecc7-ff15675c9599"
      },
      "execution_count": 40,
      "outputs": [
        {
          "output_type": "stream",
          "name": "stdout",
          "text": [
            "Model: \"sequential_4\"\n",
            "_________________________________________________________________\n",
            " Layer (type)                Output Shape              Param #   \n",
            "=================================================================\n",
            " dense_10 (Dense)            (None, 512)               401920    \n",
            "                                                                 \n",
            " batch_normalization (BatchN  (None, 512)              2048      \n",
            " ormalization)                                                   \n",
            "                                                                 \n",
            " dense_11 (Dense)            (None, 128)               65664     \n",
            "                                                                 \n",
            " batch_normalization_1 (Batc  (None, 128)              512       \n",
            " hNormalization)                                                 \n",
            "                                                                 \n",
            " dense_12 (Dense)            (None, 10)                1290      \n",
            "                                                                 \n",
            "=================================================================\n",
            "Total params: 471,434\n",
            "Trainable params: 470,154\n",
            "Non-trainable params: 1,280\n",
            "_________________________________________________________________\n",
            "Epoch 1/20\n",
            "500/500 [==============================] - 3s 5ms/step - loss: 0.2348 - accuracy: 0.9306 - val_loss: 0.1119 - val_accuracy: 0.9677\n",
            "Epoch 2/20\n",
            "500/500 [==============================] - 2s 5ms/step - loss: 0.0791 - accuracy: 0.9765 - val_loss: 0.0870 - val_accuracy: 0.9733\n",
            "Epoch 3/20\n",
            "500/500 [==============================] - 2s 5ms/step - loss: 0.0467 - accuracy: 0.9858 - val_loss: 0.0782 - val_accuracy: 0.9761\n",
            "Epoch 4/20\n",
            "500/500 [==============================] - 2s 4ms/step - loss: 0.0280 - accuracy: 0.9919 - val_loss: 0.0926 - val_accuracy: 0.9714\n",
            "Epoch 5/20\n",
            "500/500 [==============================] - 2s 4ms/step - loss: 0.0203 - accuracy: 0.9941 - val_loss: 0.0834 - val_accuracy: 0.9733\n",
            "Epoch 6/20\n",
            "500/500 [==============================] - 2s 4ms/step - loss: 0.0170 - accuracy: 0.9951 - val_loss: 0.0760 - val_accuracy: 0.9791\n",
            "Epoch 7/20\n",
            "500/500 [==============================] - 2s 4ms/step - loss: 0.0177 - accuracy: 0.9943 - val_loss: 0.0919 - val_accuracy: 0.9742\n",
            "Epoch 8/20\n",
            "500/500 [==============================] - 2s 5ms/step - loss: 0.0117 - accuracy: 0.9966 - val_loss: 0.0797 - val_accuracy: 0.9786\n",
            "Epoch 9/20\n",
            "500/500 [==============================] - 3s 5ms/step - loss: 0.0099 - accuracy: 0.9968 - val_loss: 0.0837 - val_accuracy: 0.9778\n",
            "Epoch 10/20\n",
            "500/500 [==============================] - 3s 6ms/step - loss: 0.0105 - accuracy: 0.9966 - val_loss: 0.0906 - val_accuracy: 0.9767\n",
            "Epoch 11/20\n",
            "500/500 [==============================] - 2s 5ms/step - loss: 0.0106 - accuracy: 0.9969 - val_loss: 0.0810 - val_accuracy: 0.9776\n",
            "Epoch 12/20\n",
            "500/500 [==============================] - 3s 5ms/step - loss: 0.0099 - accuracy: 0.9967 - val_loss: 0.0790 - val_accuracy: 0.9798\n",
            "Epoch 13/20\n",
            "500/500 [==============================] - 3s 5ms/step - loss: 0.0077 - accuracy: 0.9975 - val_loss: 0.0851 - val_accuracy: 0.9790\n",
            "Epoch 14/20\n",
            "500/500 [==============================] - 2s 4ms/step - loss: 0.0080 - accuracy: 0.9974 - val_loss: 0.0878 - val_accuracy: 0.9779\n",
            "Epoch 15/20\n",
            "500/500 [==============================] - 2s 4ms/step - loss: 0.0074 - accuracy: 0.9979 - val_loss: 0.0878 - val_accuracy: 0.9794\n",
            "Epoch 16/20\n",
            "500/500 [==============================] - 2s 5ms/step - loss: 0.0090 - accuracy: 0.9971 - val_loss: 0.0878 - val_accuracy: 0.9781\n",
            "Epoch 17/20\n",
            "500/500 [==============================] - 3s 6ms/step - loss: 0.0085 - accuracy: 0.9972 - val_loss: 0.0898 - val_accuracy: 0.9774\n",
            "Epoch 18/20\n",
            "500/500 [==============================] - 3s 5ms/step - loss: 0.0052 - accuracy: 0.9984 - val_loss: 0.0761 - val_accuracy: 0.9816\n",
            "Epoch 19/20\n",
            "500/500 [==============================] - 2s 5ms/step - loss: 0.0058 - accuracy: 0.9981 - val_loss: 0.0887 - val_accuracy: 0.9799\n",
            "Epoch 20/20\n",
            "500/500 [==============================] - 3s 6ms/step - loss: 0.0080 - accuracy: 0.9974 - val_loss: 0.0807 - val_accuracy: 0.9799\n"
          ]
        }
      ]
    },
    {
      "cell_type": "code",
      "source": [
        "score = model_batch.evaluate(x_test, y_test, verbose=0)\n",
        "print(\"Test Score:\", score[0])\n",
        "print(\"Test Accuracy:\", score[1])\n",
        "\n",
        "fig, ax = plt.subplots(1,1)\n",
        "ax.set_xlabel('Epochs')\n",
        "ax.set_ylabel('Categorical CrossEntropy Loss')\n",
        "\n",
        "x= list(range(1, nb_epoch+1))\n",
        "\n",
        "vy = history_batch.history['val_loss']\n",
        "ty = history_batch.history['loss']\n",
        "plt_dynamic(x, vy, ty, ax)"
      ],
      "metadata": {
        "colab": {
          "base_uri": "https://localhost:8080/",
          "height": 314
        },
        "id": "Szn7dJduRcMA",
        "outputId": "97d181fa-cfa4-4e11-b06d-862ff44b9960"
      },
      "execution_count": 41,
      "outputs": [
        {
          "output_type": "stream",
          "name": "stdout",
          "text": [
            "Test Score: 0.08072373270988464\n",
            "Test Accuracy: 0.9799000024795532\n"
          ]
        },
        {
          "output_type": "display_data",
          "data": {
            "text/plain": [
              "<Figure size 432x288 with 1 Axes>"
            ],
            "image/png": "[encoded data removed]"
          },
          "metadata": {
            "needs_background": "light"
          }
        }
      ]
    },
    {
      "cell_type": "code",
      "source": [
        "def plt_dynamic_acc(x, vy, ty, ax, colors=['b']):\n",
        "  ax.plot(x, vy, 'b', label=\"Accuracy\")\n",
        "  ax.plot(x, ty, 'r', label = \"Val Accuracy\")\n",
        "  plt.legend()\n",
        "  plt.grid()\n",
        "  fig.canvas.draw()"
      ],
      "metadata": {
        "id": "BDj5hEPLSVDt"
      },
      "execution_count": 42,
      "outputs": []
    },
    {
      "cell_type": "code",
      "source": [
        "fig, ax = plt.subplots(1,1)\n",
        "ax.set_xlabel('Epochs')\n",
        "ax.set_ylabel('Model Accuracies')\n",
        "\n",
        "x= list(range(1, nb_epoch+1))\n",
        "\n",
        "vy = history_batch.history['val_accuracy']\n",
        "ty = history_batch.history['accuracy']\n",
        "plt_dynamic_acc(x, vy, ty, ax)"
      ],
      "metadata": {
        "colab": {
          "base_uri": "https://localhost:8080/",
          "height": 279
        },
        "id": "bJbF--DlSvu-",
        "outputId": "8ad0cb66-bea1-40dc-b29f-5411edb50b92"
      },
      "execution_count": 43,
      "outputs": [
        {
          "output_type": "display_data",
          "data": {
            "text/plain": [
              "<Figure size 432x288 with 1 Axes>"
            ],
            "image/png": "[encoded data removed]"
          },
          "metadata": {
            "needs_background": "light"
          }
        }
      ]
    },
    {
      "cell_type": "code",
      "source": [
        "\n",
        "from keras.layers.normalization.batch_normalization_v1 import BatchNormalization\n",
        "from keras.layers import Dropout\n",
        "model_batch_drop= Sequential()\n",
        "\n",
        "model_batch_drop.add(Dense(512, activation = 'sigmoid', input_shape=(input_dim,), kernel_initializer=RandomNormal(mean=0.0, stddev =0.125, seed=None)))\n",
        "model_batch_drop.add(BatchNormalization())\n",
        "model_batch_drop.add(Dropout(0.5))\n",
        "\n",
        "model_batch_drop.add(Dense(128, activation='sigmoid',  kernel_initializer=RandomNormal(mean=0.0, stddev =0.125, seed=None)))\n",
        "model_batch_drop.add(BatchNormalization())\n",
        "model_batch_drop.add(Dropout(0.5))\n",
        "\n",
        "model_batch_drop.add(Dense(output_dim, activation='softmax'))\n",
        "\n",
        "\n",
        "model_batch_drop.summary()\n",
        "\n",
        "model_batch_drop.compile(optimizer='SGD', loss='categorical_crossentropy', metrics=['accuracy'])\n",
        "\n",
        "history_batch_drop = model_batch_drop.fit(x_train, y_train, batch_size=120, epochs=20, verbose=1, validation_data=(x_test, y_test))"
      ],
      "metadata": {
        "colab": {
          "base_uri": "https://localhost:8080/"
        },
        "id": "b5_4S-xtT7tx",
        "outputId": "e227bd3c-247a-45ca-d172-2cbb4cfd1482"
      },
      "execution_count": 45,
      "outputs": [
        {
          "output_type": "stream",
          "name": "stdout",
          "text": [
            "Model: \"sequential_6\"\n",
            "_________________________________________________________________\n",
            " Layer (type)                Output Shape              Param #   \n",
            "=================================================================\n",
            " dense_14 (Dense)            (None, 512)               401920    \n",
            "                                                                 \n",
            " batch_normalization_2 (Batc  (None, 512)              2048      \n",
            " hNormalization)                                                 \n",
            "                                                                 \n",
            " dropout (Dropout)           (None, 512)               0         \n",
            "                                                                 \n",
            " dense_15 (Dense)            (None, 128)               65664     \n",
            "                                                                 \n",
            " batch_normalization_3 (Batc  (None, 128)              512       \n",
            " hNormalization)                                                 \n",
            "                                                                 \n",
            " dropout_1 (Dropout)         (None, 128)               0         \n",
            "                                                                 \n",
            " dense_16 (Dense)            (None, 10)                1290      \n",
            "                                                                 \n",
            "=================================================================\n",
            "Total params: 471,434\n",
            "Trainable params: 470,154\n",
            "Non-trainable params: 1,280\n",
            "_________________________________________________________________\n",
            "Epoch 1/20\n",
            "500/500 [==============================] - 3s 5ms/step - loss: 1.5215 - accuracy: 0.5246 - val_loss: 0.4915 - val_accuracy: 0.8484\n",
            "Epoch 2/20\n",
            "500/500 [==============================] - 2s 4ms/step - loss: 0.8467 - accuracy: 0.7241 - val_loss: 0.4089 - val_accuracy: 0.8757\n",
            "Epoch 3/20\n",
            "500/500 [==============================] - 2s 4ms/step - loss: 0.7220 - accuracy: 0.7684 - val_loss: 0.3779 - val_accuracy: 0.8854\n",
            "Epoch 4/20\n",
            "500/500 [==============================] - 2s 4ms/step - loss: 0.6508 - accuracy: 0.7946 - val_loss: 0.3578 - val_accuracy: 0.8934\n",
            "Epoch 5/20\n",
            "500/500 [==============================] - 2s 4ms/step - loss: 0.6106 - accuracy: 0.8088 - val_loss: 0.3438 - val_accuracy: 0.8987\n",
            "Epoch 6/20\n",
            "500/500 [==============================] - 2s 4ms/step - loss: 0.5826 - accuracy: 0.8168 - val_loss: 0.3344 - val_accuracy: 0.9026\n",
            "Epoch 7/20\n",
            "500/500 [==============================] - 2s 4ms/step - loss: 0.5584 - accuracy: 0.8245 - val_loss: 0.3268 - val_accuracy: 0.9044\n",
            "Epoch 8/20\n",
            "500/500 [==============================] - 2s 4ms/step - loss: 0.5464 - accuracy: 0.8285 - val_loss: 0.3188 - val_accuracy: 0.9068\n",
            "Epoch 9/20\n",
            "500/500 [==============================] - 2s 4ms/step - loss: 0.5232 - accuracy: 0.8383 - val_loss: 0.3140 - val_accuracy: 0.9072\n",
            "Epoch 10/20\n",
            "500/500 [==============================] - 2s 4ms/step - loss: 0.5124 - accuracy: 0.8411 - val_loss: 0.3081 - val_accuracy: 0.9086\n",
            "Epoch 11/20\n",
            "500/500 [==============================] - 2s 4ms/step - loss: 0.5006 - accuracy: 0.8457 - val_loss: 0.3032 - val_accuracy: 0.9100\n",
            "Epoch 12/20\n",
            "500/500 [==============================] - 2s 4ms/step - loss: 0.4906 - accuracy: 0.8492 - val_loss: 0.2998 - val_accuracy: 0.9106\n",
            "Epoch 13/20\n",
            "500/500 [==============================] - 2s 4ms/step - loss: 0.4839 - accuracy: 0.8514 - val_loss: 0.2964 - val_accuracy: 0.9128\n",
            "Epoch 14/20\n",
            "500/500 [==============================] - 2s 4ms/step - loss: 0.4720 - accuracy: 0.8548 - val_loss: 0.2929 - val_accuracy: 0.9124\n",
            "Epoch 15/20\n",
            "500/500 [==============================] - 2s 4ms/step - loss: 0.4673 - accuracy: 0.8567 - val_loss: 0.2894 - val_accuracy: 0.9134\n",
            "Epoch 16/20\n",
            "500/500 [==============================] - 2s 4ms/step - loss: 0.4618 - accuracy: 0.8575 - val_loss: 0.2859 - val_accuracy: 0.9140\n",
            "Epoch 17/20\n",
            "500/500 [==============================] - 2s 4ms/step - loss: 0.4550 - accuracy: 0.8611 - val_loss: 0.2833 - val_accuracy: 0.9157\n",
            "Epoch 18/20\n",
            "500/500 [==============================] - 2s 4ms/step - loss: 0.4494 - accuracy: 0.8619 - val_loss: 0.2806 - val_accuracy: 0.9161\n",
            "Epoch 19/20\n",
            "500/500 [==============================] - 2s 4ms/step - loss: 0.4439 - accuracy: 0.8640 - val_loss: 0.2788 - val_accuracy: 0.9168\n",
            "Epoch 20/20\n",
            "500/500 [==============================] - 2s 4ms/step - loss: 0.4364 - accuracy: 0.8673 - val_loss: 0.2759 - val_accuracy: 0.9177\n"
          ]
        }
      ]
    },
    {
      "cell_type": "code",
      "source": [
        "score = model_batch_drop.evaluate(x_test, y_test, verbose=0)\n",
        "print(\"Test Score:\", score[0])\n",
        "print(\"Test Accuracy:\", score[1])\n",
        "\n",
        "fig, ax = plt.subplots(1,1)\n",
        "ax.set_xlabel('Epochs')\n",
        "ax.set_ylabel('Categorical CrossEntropy Loss')\n",
        "\n",
        "x= list(range(1, nb_epoch+1))\n",
        "\n",
        "vy = history_batch.history['val_loss']\n",
        "ty = history_batch.history['loss']\n",
        "plt_dynamic(x, vy, ty, ax)\n",
        "\n"
      ],
      "metadata": {
        "id": "LBC00v_KU60G"
      },
      "execution_count": null,
      "outputs": []
    }
  ]
}